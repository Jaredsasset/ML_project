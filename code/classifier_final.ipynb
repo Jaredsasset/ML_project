{
 "cells": [
  {
   "cell_type": "code",
   "execution_count": 96,
   "metadata": {},
   "outputs": [],
   "source": [
    "# library\n",
    "import pandas as pd\n",
    "import seaborn as sns\n",
    "from sklearn.ensemble import RandomForestClassifier\n",
    "from sklearn.model_selection import train_test_split\n",
    "from sklearn.metrics import accuracy_score, confusion_matrix\n",
    "from sklearn.model_selection import cross_validate # 교차검증\n",
    "from sklearn.model_selection import GridSearchCV\n",
    "from sklearn.model_selection import StratifiedKFold\n",
    "from sklearn.preprocessing import StandardScaler\n",
    "from sklearn.pipeline import Pipeline\n",
    "from sklearn.model_selection import KFold\n",
    "\n",
    "import matplotlib.pyplot as plt\n",
    "%matplotlib inline\n",
    "from matplotlib import font_manager, rc\n",
    "f_path = \"C:/Windows/Fonts/malgun.ttf\"\n",
    "rc(\"font\", family = \"Malgun Gothic\")\n",
    "plt.rcParams[\"axes.unicode_minus\"] = False\n",
    "\n",
    "import warnings\n",
    "warnings.filterwarnings(\"ignore\")"
   ]
  },
  {
   "attachments": {},
   "cell_type": "markdown",
   "metadata": {},
   "source": [
    "## 상의 제품정보 data load\n",
    "- 남여 -> 남\n",
    "- 남자 : 0 / 여자 : 1로 mapping"
   ]
  },
  {
   "cell_type": "code",
   "execution_count": 97,
   "metadata": {},
   "outputs": [
    {
     "data": {
      "text/html": [
       "<div>\n",
       "<style scoped>\n",
       "    .dataframe tbody tr th:only-of-type {\n",
       "        vertical-align: middle;\n",
       "    }\n",
       "\n",
       "    .dataframe tbody tr th {\n",
       "        vertical-align: top;\n",
       "    }\n",
       "\n",
       "    .dataframe thead th {\n",
       "        text-align: right;\n",
       "    }\n",
       "</style>\n",
       "<table border=\"1\" class=\"dataframe\">\n",
       "  <thead>\n",
       "    <tr style=\"text-align: right;\">\n",
       "      <th></th>\n",
       "      <th>Unnamed: 0</th>\n",
       "      <th>제품명</th>\n",
       "      <th>브랜드</th>\n",
       "      <th>성별</th>\n",
       "      <th>사이즈</th>\n",
       "      <th>총장</th>\n",
       "      <th>어깨너비</th>\n",
       "      <th>가슴단면</th>\n",
       "      <th>링크</th>\n",
       "      <th>사이즈2</th>\n",
       "      <th>FREESIZE</th>\n",
       "    </tr>\n",
       "  </thead>\n",
       "  <tbody>\n",
       "    <tr>\n",
       "      <th>0</th>\n",
       "      <td>6</td>\n",
       "      <td>릴렉스 핏 크루 넥 반팔 티셔츠 2팩</td>\n",
       "      <td>MUSINSA STANDARD</td>\n",
       "      <td>남</td>\n",
       "      <td>S</td>\n",
       "      <td>68.5</td>\n",
       "      <td>49.5</td>\n",
       "      <td>53.0</td>\n",
       "      <td>https://www.musinsa.com/app/goods/2034137</td>\n",
       "      <td>S</td>\n",
       "      <td>0</td>\n",
       "    </tr>\n",
       "    <tr>\n",
       "      <th>1</th>\n",
       "      <td>7</td>\n",
       "      <td>릴렉스 핏 크루 넥 반팔 티셔츠 2팩</td>\n",
       "      <td>MUSINSA STANDARD</td>\n",
       "      <td>남</td>\n",
       "      <td>M</td>\n",
       "      <td>70.5</td>\n",
       "      <td>51.5</td>\n",
       "      <td>55.5</td>\n",
       "      <td>https://www.musinsa.com/app/goods/2034137</td>\n",
       "      <td>M</td>\n",
       "      <td>0</td>\n",
       "    </tr>\n",
       "    <tr>\n",
       "      <th>2</th>\n",
       "      <td>8</td>\n",
       "      <td>릴렉스 핏 크루 넥 반팔 티셔츠 2팩</td>\n",
       "      <td>MUSINSA STANDARD</td>\n",
       "      <td>남</td>\n",
       "      <td>L</td>\n",
       "      <td>72.0</td>\n",
       "      <td>53.0</td>\n",
       "      <td>58.0</td>\n",
       "      <td>https://www.musinsa.com/app/goods/2034137</td>\n",
       "      <td>L</td>\n",
       "      <td>0</td>\n",
       "    </tr>\n",
       "  </tbody>\n",
       "</table>\n",
       "</div>"
      ],
      "text/plain": [
       "   Unnamed: 0                   제품명               브랜드 성별 사이즈    총장  어깨너비  \\\n",
       "0           6  릴렉스 핏 크루 넥 반팔 티셔츠 2팩  MUSINSA STANDARD  남   S  68.5  49.5   \n",
       "1           7  릴렉스 핏 크루 넥 반팔 티셔츠 2팩  MUSINSA STANDARD  남   M  70.5  51.5   \n",
       "2           8  릴렉스 핏 크루 넥 반팔 티셔츠 2팩  MUSINSA STANDARD  남   L  72.0  53.0   \n",
       "\n",
       "   가슴단면                                         링크 사이즈2  FREESIZE  \n",
       "0  53.0  https://www.musinsa.com/app/goods/2034137    S         0  \n",
       "1  55.5  https://www.musinsa.com/app/goods/2034137    M         0  \n",
       "2  58.0  https://www.musinsa.com/app/goods/2034137    L         0  "
      ]
     },
     "execution_count": 97,
     "metadata": {},
     "output_type": "execute_result"
    }
   ],
   "source": [
    "df = pd.read_csv('../data/상의/상의 제품정보/(전처리후)musinsa_top_product_v230612.csv'\n",
    "                 ,encoding=\"cp949\")\n",
    "df.head(3)"
   ]
  },
  {
   "cell_type": "code",
   "execution_count": 98,
   "metadata": {},
   "outputs": [],
   "source": [
    "# 남여 -> 남자\n",
    "df.loc[df[\"성별\"] == \"남여\", \"성별\"] = \"남\""
   ]
  },
  {
   "attachments": {},
   "cell_type": "markdown",
   "metadata": {},
   "source": [
    "### 남성 데이터 "
   ]
  },
  {
   "cell_type": "code",
   "execution_count": 99,
   "metadata": {},
   "outputs": [
    {
     "data": {
      "text/plain": [
       "남    72796\n",
       "여    15106\n",
       "Name: 성별, dtype: int64"
      ]
     },
     "execution_count": 99,
     "metadata": {},
     "output_type": "execute_result"
    }
   ],
   "source": [
    "df.성별.value_counts()"
   ]
  },
  {
   "cell_type": "code",
   "execution_count": 100,
   "metadata": {},
   "outputs": [
    {
     "data": {
      "text/plain": [
       "(72796, 5769)"
      ]
     },
     "execution_count": 100,
     "metadata": {},
     "output_type": "execute_result"
    }
   ],
   "source": [
    "df_man = df[df['성별'] == '남']\n",
    "len(df_man), len(df_man[df_man['브랜드'] == 'MUSINSA STANDARD'])"
   ]
  },
  {
   "attachments": {},
   "cell_type": "markdown",
   "metadata": {},
   "source": [
    "### 여성 데이터"
   ]
  },
  {
   "cell_type": "code",
   "execution_count": 101,
   "metadata": {},
   "outputs": [
    {
     "data": {
      "text/plain": [
       "(15106, 1491)"
      ]
     },
     "execution_count": 101,
     "metadata": {},
     "output_type": "execute_result"
    }
   ],
   "source": [
    "df_woman = df[df['성별'] == '여']\n",
    "len(df_woman), len(df_woman[df_woman['브랜드'] == 'MUSINSA STANDARD'])"
   ]
  },
  {
   "attachments": {},
   "cell_type": "markdown",
   "metadata": {},
   "source": [
    "## 무신사 데이터 추출 및 전처리\n",
    "- XXL, 2XL 합치기 -> 2XL 정의\n",
    "- XXXL, 3XL 합치기 ->3XL 정의\n",
    "- 남자 XS 행 삭제"
   ]
  },
  {
   "attachments": {},
   "cell_type": "markdown",
   "metadata": {},
   "source": [
    "### 남성 무신사 데이터 "
   ]
  },
  {
   "cell_type": "code",
   "execution_count": 102,
   "metadata": {},
   "outputs": [
    {
     "data": {
      "text/plain": [
       "(5769, 10)"
      ]
     },
     "execution_count": 102,
     "metadata": {},
     "output_type": "execute_result"
    }
   ],
   "source": [
    "musinsa_man = df_man[df_man[\"브랜드\"] == \"MUSINSA STANDARD\"]\n",
    "musinsa_man.drop([\"Unnamed: 0\"], axis=1, inplace=True)\n",
    "musinsa_man.shape"
   ]
  },
  {
   "cell_type": "code",
   "execution_count": 103,
   "metadata": {},
   "outputs": [
    {
     "data": {
      "text/plain": [
       "(5739, 10)"
      ]
     },
     "execution_count": 103,
     "metadata": {},
     "output_type": "execute_result"
    }
   ],
   "source": [
    "# 남자 XS 행 삭제 (30개 행 제거)\n",
    "musinsa_man = musinsa_man.loc[~(musinsa_man[\"사이즈\"] == \"XS\")]\n",
    "musinsa_man.shape"
   ]
  },
  {
   "cell_type": "code",
   "execution_count": 104,
   "metadata": {},
   "outputs": [
    {
     "data": {
      "text/plain": [
       "M      1053\n",
       "L      1053\n",
       "XL     1051\n",
       "2XL    1037\n",
       "S       928\n",
       "3XL     617\n",
       "Name: 사이즈, dtype: int64"
      ]
     },
     "execution_count": 104,
     "metadata": {},
     "output_type": "execute_result"
    }
   ],
   "source": [
    "# XXL, 2XL 합치기 -> 2XL /XXXL, 3XL 합치기 ->3XL \n",
    "musinsa_man.loc[musinsa_man[\"사이즈\"] == \"XXL\", \"사이즈\"] = \"2XL\"\n",
    "musinsa_man.loc[musinsa_man[\"사이즈\"] == \"XXXL\", \"사이즈\"] = \"3XL\"\n",
    "musinsa_man.사이즈.value_counts()"
   ]
  },
  {
   "cell_type": "code",
   "execution_count": 105,
   "metadata": {},
   "outputs": [],
   "source": [
    "# # \"XS\": 0, \"S\": 1, \"M\": 2, \"L\": 3, \"XL\": 4, \"2XL\": 5, \"3XL\": 6 로 mapping\n",
    "# musinsa_man[\"사이즈\"] = musinsa_man[\"사이즈\"].map({\"XS\": 0, \"S\": 1, \"M\": 2, \"L\": 3, \"XL\": 4, \"2XL\": 5, \"3XL\": 6})\n",
    "# musinsa_man.사이즈.value_counts().sort_index()"
   ]
  },
  {
   "attachments": {},
   "cell_type": "markdown",
   "metadata": {},
   "source": [
    "### 여성 무신사 데이터 "
   ]
  },
  {
   "cell_type": "code",
   "execution_count": 106,
   "metadata": {},
   "outputs": [
    {
     "data": {
      "text/plain": [
       "(1491, 10)"
      ]
     },
     "execution_count": 106,
     "metadata": {},
     "output_type": "execute_result"
    }
   ],
   "source": [
    "musinsa_woman = df_woman[df_woman[\"브랜드\"] == \"MUSINSA STANDARD\"]\n",
    "musinsa_woman.drop([\"Unnamed: 0\"], axis=1, inplace=True)\n",
    "musinsa_woman.shape"
   ]
  },
  {
   "cell_type": "code",
   "execution_count": 107,
   "metadata": {},
   "outputs": [],
   "source": [
    "# XXL, 2XL 합치기 -> 2XL /XXXL, 3XL 합치기 ->3XL \n",
    "musinsa_woman.loc[musinsa_woman[\"사이즈\"] == \"XXL\", \"사이즈\"] = \"2XL\"\n",
    "musinsa_woman.loc[musinsa_woman[\"사이즈\"] == \"XXXL\", \"사이즈\"] = \"3XL\""
   ]
  },
  {
   "cell_type": "code",
   "execution_count": 108,
   "metadata": {},
   "outputs": [
    {
     "data": {
      "text/plain": [
       "S     380\n",
       "M     380\n",
       "L     370\n",
       "XS    361\n",
       "Name: 사이즈, dtype: int64"
      ]
     },
     "execution_count": 108,
     "metadata": {},
     "output_type": "execute_result"
    }
   ],
   "source": [
    "musinsa_woman.사이즈.value_counts()"
   ]
  },
  {
   "attachments": {},
   "cell_type": "markdown",
   "metadata": {},
   "source": [
    "---"
   ]
  },
  {
   "attachments": {},
   "cell_type": "markdown",
   "metadata": {},
   "source": [
    "# Model 생성"
   ]
  },
  {
   "attachments": {},
   "cell_type": "markdown",
   "metadata": {},
   "source": [
    "## RandomForest"
   ]
  },
  {
   "attachments": {},
   "cell_type": "markdown",
   "metadata": {},
   "source": [
    "## 남성"
   ]
  },
  {
   "cell_type": "code",
   "execution_count": 109,
   "metadata": {},
   "outputs": [
    {
     "data": {
      "text/plain": [
       "(5739, 10)"
      ]
     },
     "execution_count": 109,
     "metadata": {},
     "output_type": "execute_result"
    }
   ],
   "source": [
    "musinsa_man.shape"
   ]
  },
  {
   "cell_type": "code",
   "execution_count": 110,
   "metadata": {},
   "outputs": [
    {
     "data": {
      "text/plain": [
       "Index(['제품명', '브랜드', '성별', '사이즈', '총장', '어깨너비', '가슴단면', '링크', '사이즈2',\n",
       "       'FREESIZE'],\n",
       "      dtype='object')"
      ]
     },
     "execution_count": 110,
     "metadata": {},
     "output_type": "execute_result"
    }
   ],
   "source": [
    "musinsa_man.columns"
   ]
  },
  {
   "cell_type": "code",
   "execution_count": 111,
   "metadata": {},
   "outputs": [
    {
     "data": {
      "text/html": [
       "<div>\n",
       "<style scoped>\n",
       "    .dataframe tbody tr th:only-of-type {\n",
       "        vertical-align: middle;\n",
       "    }\n",
       "\n",
       "    .dataframe tbody tr th {\n",
       "        vertical-align: top;\n",
       "    }\n",
       "\n",
       "    .dataframe thead th {\n",
       "        text-align: right;\n",
       "    }\n",
       "</style>\n",
       "<table border=\"1\" class=\"dataframe\">\n",
       "  <thead>\n",
       "    <tr style=\"text-align: right;\">\n",
       "      <th></th>\n",
       "      <th>rank_test_score</th>\n",
       "      <th>params</th>\n",
       "      <th>mean_test_score</th>\n",
       "    </tr>\n",
       "  </thead>\n",
       "  <tbody>\n",
       "    <tr>\n",
       "      <th>0</th>\n",
       "      <td>1</td>\n",
       "      <td>{'clf__max_depth': 15, 'clf__max_leaf_nodes': ...</td>\n",
       "      <td>0.895883</td>\n",
       "    </tr>\n",
       "  </tbody>\n",
       "</table>\n",
       "</div>"
      ],
      "text/plain": [
       "   rank_test_score                                             params  \\\n",
       "0                1  {'clf__max_depth': 15, 'clf__max_leaf_nodes': ...   \n",
       "\n",
       "   mean_test_score  \n",
       "0         0.895883  "
      ]
     },
     "execution_count": 111,
     "metadata": {},
     "output_type": "execute_result"
    }
   ],
   "source": [
    "from sklearn.pipeline import Pipeline\n",
    "\n",
    "# feature, target 분리\n",
    "X = musinsa_man[['총장', '어깨너비', '가슴단면']]  # 사용할 변수 선택\n",
    "y = musinsa_man['사이즈']  # 예측할 타겟 변수\n",
    "\n",
    "# data split (test_size = 0.2)\n",
    "X_train, X_test, y_train, y_test = train_test_split(X, y, test_size=0.2, random_state=98, stratify=y)\n",
    "\n",
    "skf = StratifiedKFold(n_splits=5, shuffle=True, random_state=13)\n",
    "estimators = [('scaler', StandardScaler()), ('clf', RandomForestClassifier(random_state=13))]\n",
    "params1 = {\n",
    "    'clf__max_depth': [15], 'clf__max_leaf_nodes':[40],\n",
    "    'clf__min_samples_leaf': [10], 'clf__min_samples_split': [52], 'clf__n_estimators': [100]\n",
    "}\n",
    "pipe = Pipeline(estimators)\n",
    "rf1 = GridSearchCV(estimator=pipe, param_grid=params1, cv=skf)\n",
    "result_gs = rf1.fit(X_train, y_train)\n",
    "\n",
    "# GridSearch 결과 확인\n",
    "cv_results = pd.DataFrame(result_gs.cv_results_)\n",
    "cv_results[['rank_test_score', 'params', 'mean_test_score']].sort_values(\"rank_test_score\")"
   ]
  },
  {
   "cell_type": "code",
   "execution_count": 112,
   "metadata": {},
   "outputs": [
    {
     "data": {
      "text/plain": [
       "{'fit_time': array([1.2042017 , 1.19930005, 1.19406199, 1.18868566, 1.19498062]),\n",
       " 'score_time': array([0.01571655, 0.01597595, 0.01601505, 0.01701498, 0.01629305]),\n",
       " 'test_score': array([0.89662677, 0.89760349, 0.90196078, 0.89651416, 0.88671024]),\n",
       " 'train_score': array([0.92320261, 0.91178873, 0.90961067, 0.90933842, 0.91287776])}"
      ]
     },
     "execution_count": 112,
     "metadata": {},
     "output_type": "execute_result"
    }
   ],
   "source": [
    "pred = result_gs.predict(X_test)\n",
    "accuracy_score(y_test, pred)\n",
    "\n",
    "# cross_validate를 사용하여 모델의 성능 평가\n",
    "cross_validate(result_gs, X_train, y_train, cv=skf, return_train_score=True)"
   ]
  },
  {
   "cell_type": "code",
   "execution_count": 113,
   "metadata": {},
   "outputs": [],
   "source": [
    "# 원본 데이터에 모델 적용\n",
    "pred_original = result_gs.predict(df_man[['총장', '어깨너비', '가슴단면']])\n",
    "df_man[\"pred_size\"] = pred_original"
   ]
  },
  {
   "cell_type": "code",
   "execution_count": 114,
   "metadata": {},
   "outputs": [
    {
     "data": {
      "text/plain": [
       "L      17870\n",
       "2XL    15045\n",
       "S      13597\n",
       "XL     12055\n",
       "M      10488\n",
       "3XL     3741\n",
       "Name: pred_size, dtype: int64"
      ]
     },
     "execution_count": 114,
     "metadata": {},
     "output_type": "execute_result"
    }
   ],
   "source": [
    "df_man.pred_size.value_counts()"
   ]
  },
  {
   "cell_type": "code",
   "execution_count": 115,
   "metadata": {},
   "outputs": [],
   "source": [
    "df_man.to_csv(\"../data/man_rf.csv\", encoding=\"utf-8\")"
   ]
  },
  {
   "cell_type": "code",
   "execution_count": 116,
   "metadata": {},
   "outputs": [
    {
     "data": {
      "image/png": "[encoded data removed]",
      "text/plain": [
       "<Figure size 300x300 with 1 Axes>"
      ]
     },
     "metadata": {},
     "output_type": "display_data"
    }
   ],
   "source": [
    "# confusion matrix\n",
    "conf_mat = confusion_matrix(y_test, pred)\n",
    "\n",
    "fig, ax = plt.subplots(figsize = (3, 3))\n",
    "ax.matshow(conf_mat, cmap = plt.cm.Blues, alpha = 0.3)\n",
    "\n",
    "for i in range(conf_mat.shape[0]):\n",
    "    for j in range(conf_mat.shape[1]):\n",
    "        ax.text(x = j, y = i, s = conf_mat[i, j], va = 'center', ha = 'center')\n",
    "\n",
    "plt.show()"
   ]
  },
  {
   "cell_type": "code",
   "execution_count": 117,
   "metadata": {},
   "outputs": [
    {
     "data": {
      "image/png": "[encoded data removed]",
      "text/plain": [
       "<Figure size 1500x600 with 3 Axes>"
      ]
     },
     "metadata": {},
     "output_type": "display_data"
    }
   ],
   "source": [
    "# 사이즈 별 실츠게 데이터 boxplot\n",
    "sns.set_palette(\"Set3\")\n",
    "fig, ax = plt.subplots(1, 3, figsize=(15, 6))\n",
    "sns.boxplot(df_man, x='pred_size', y='총장', ax=ax[0])\n",
    "sns.boxplot(df_man, x='pred_size', y='어깨너비', ax=ax[1])\n",
    "sns.boxplot(df_man, x='pred_size', y='가슴단면', ax=ax[2])\n",
    "\n",
    "for i in range(3):\n",
    "    ax[i].set_xlabel('사이즈')\n",
    "    ax[i].set_ylabel('')\n",
    "    ax[i].tick_params(axis='x')\n",
    "\n",
    "ax[0].set_title('총장')\n",
    "ax[1].set_title('어깨너비')\n",
    "ax[2].set_title('가슴단면')\n",
    "\n",
    "plt.suptitle('(df_man)사이즈 별 실측데이터 boxplot', fontsize=15)\n",
    "fig.subplots_adjust(hspace=0.4, wspace=0.2)\n",
    "\n",
    "plt.show()"
   ]
  },
  {
   "attachments": {},
   "cell_type": "markdown",
   "metadata": {},
   "source": [
    "### 여성"
   ]
  },
  {
   "cell_type": "code",
   "execution_count": 118,
   "metadata": {},
   "outputs": [
    {
     "data": {
      "text/plain": [
       "(1491, 10)"
      ]
     },
     "execution_count": 118,
     "metadata": {},
     "output_type": "execute_result"
    }
   ],
   "source": [
    "musinsa_woman.shape"
   ]
  },
  {
   "cell_type": "code",
   "execution_count": 119,
   "metadata": {},
   "outputs": [
    {
     "data": {
      "text/html": [
       "<div>\n",
       "<style scoped>\n",
       "    .dataframe tbody tr th:only-of-type {\n",
       "        vertical-align: middle;\n",
       "    }\n",
       "\n",
       "    .dataframe tbody tr th {\n",
       "        vertical-align: top;\n",
       "    }\n",
       "\n",
       "    .dataframe thead th {\n",
       "        text-align: right;\n",
       "    }\n",
       "</style>\n",
       "<table border=\"1\" class=\"dataframe\">\n",
       "  <thead>\n",
       "    <tr style=\"text-align: right;\">\n",
       "      <th></th>\n",
       "      <th>rank_test_score</th>\n",
       "      <th>params</th>\n",
       "      <th>mean_test_score</th>\n",
       "    </tr>\n",
       "  </thead>\n",
       "  <tbody>\n",
       "    <tr>\n",
       "      <th>0</th>\n",
       "      <td>1</td>\n",
       "      <td>{'clf__max_depth': 10, 'clf__max_leaf_nodes': ...</td>\n",
       "      <td>0.900207</td>\n",
       "    </tr>\n",
       "  </tbody>\n",
       "</table>\n",
       "</div>"
      ],
      "text/plain": [
       "   rank_test_score                                             params  \\\n",
       "0                1  {'clf__max_depth': 10, 'clf__max_leaf_nodes': ...   \n",
       "\n",
       "   mean_test_score  \n",
       "0         0.900207  "
      ]
     },
     "execution_count": 119,
     "metadata": {},
     "output_type": "execute_result"
    }
   ],
   "source": [
    "# feature, target 분리\n",
    "X = musinsa_woman[['총장', '어깨너비', '가슴단면']]  # 사용할 변수 선택\n",
    "y = musinsa_woman['사이즈']  # 예측할 타겟 변수\n",
    "\n",
    "# data split (test_size = 0.2)\n",
    "X_train, X_test, y_train, y_test = train_test_split(X, y, test_size=0.2, random_state=98, stratify=y)\n",
    "\n",
    "kfold = KFold(n_splits=5, shuffle=True, random_state=13)\n",
    "estimators = [('scaler', StandardScaler()), ('clf', RandomForestClassifier(random_state=13))]\n",
    "\n",
    "# params = {\n",
    "#     'clf__max_depth' : [8, 10, 15, 20, 30],\n",
    "#     'clf__n_estimators' : [100, 150 ,200],\n",
    "#     'clf__min_samples_leaf': [5, 10, 20, 30, 50],\n",
    "#     'clf__min_samples_split' : [5, 10, 20, 30],\n",
    "#     'clf__max_leaf_nodes' : [20, 30, 40, 50, 60, 70, 80, 90]\n",
    "# }\n",
    "\n",
    "params = {\n",
    "    'clf__max_depth': [10], 'clf__max_leaf_nodes':[60],\n",
    "    'clf__min_samples_leaf': [5], 'clf__min_samples_split': [5], 'clf__n_estimators': [150]\n",
    "}\n",
    "\n",
    "pipe = Pipeline(estimators)\n",
    "rf1 = GridSearchCV(estimator=pipe, param_grid=params, cv=kfold)\n",
    "result_gs = rf1.fit(X_train, y_train)\n",
    "\n",
    "# GridSearch 결과 확인\n",
    "cv_results = pd.DataFrame(result_gs.cv_results_)\n",
    "cv_results[['rank_test_score', 'params', 'mean_test_score']].sort_values(\"rank_test_score\")\n"
   ]
  },
  {
   "cell_type": "code",
   "execution_count": 120,
   "metadata": {},
   "outputs": [],
   "source": [
    "# cv_results[['rank_test_score', 'params', 'mean_test_score']].sort_values(\"rank_test_score\").to_csv(\"../data/cv_results_woman.csv\"\n",
    "#                                                                                                    , encoding='utf8')"
   ]
  },
  {
   "cell_type": "code",
   "execution_count": 121,
   "metadata": {},
   "outputs": [
    {
     "data": {
      "text/plain": [
       "{'fit_time': array([1.38133836, 1.37613559, 1.38394284, 1.38593793, 1.36525941]),\n",
       " 'score_time': array([0.01801682, 0.01501441, 0.01601315, 0.01701427, 0.01501417]),\n",
       " 'test_score': array([0.87866109, 0.90376569, 0.87394958, 0.90756303, 0.87394958]),\n",
       " 'train_score': array([0.95487933, 0.94228751, 0.95702306, 0.95073375, 0.95178197])}"
      ]
     },
     "execution_count": 121,
     "metadata": {},
     "output_type": "execute_result"
    }
   ],
   "source": [
    "pred = result_gs.predict(X_test)\n",
    "accuracy_score(y_test, pred)\n",
    "\n",
    "# cross_validate를 사용하여 모델의 성능 평가\n",
    "cross_validate(result_gs, X_train, y_train, cv=skf, return_train_score=True)"
   ]
  },
  {
   "cell_type": "code",
   "execution_count": 122,
   "metadata": {},
   "outputs": [],
   "source": [
    "# 원본 데이터에 모델 적용\n",
    "pred_original = result_gs.predict(df_woman[['총장', '어깨너비', '가슴단면']])\n",
    "df_woman[\"pred_size\"] = pred_original"
   ]
  },
  {
   "cell_type": "code",
   "execution_count": 123,
   "metadata": {},
   "outputs": [
    {
     "data": {
      "text/plain": [
       "L     5058\n",
       "XS    3538\n",
       "M     3413\n",
       "S     3097\n",
       "Name: pred_size, dtype: int64"
      ]
     },
     "execution_count": 123,
     "metadata": {},
     "output_type": "execute_result"
    }
   ],
   "source": [
    "df_woman.pred_size.value_counts()"
   ]
  },
  {
   "cell_type": "code",
   "execution_count": 124,
   "metadata": {},
   "outputs": [],
   "source": [
    "# df_woman.to_csv(\"../data/man_rf.csv\", encoding=\"utf-8\")"
   ]
  },
  {
   "cell_type": "code",
   "execution_count": 125,
   "metadata": {},
   "outputs": [
    {
     "data": {
      "image/png": "[encoded data removed]",
      "text/plain": [
       "<Figure size 300x300 with 1 Axes>"
      ]
     },
     "metadata": {},
     "output_type": "display_data"
    }
   ],
   "source": [
    "# confusion matrix\n",
    "conf_mat = confusion_matrix(y_test, pred)\n",
    "\n",
    "fig, ax = plt.subplots(figsize = (3, 3))\n",
    "ax.matshow(conf_mat, cmap = plt.cm.Blues, alpha = 0.3)\n",
    "\n",
    "for i in range(conf_mat.shape[0]):\n",
    "    for j in range(conf_mat.shape[1]):\n",
    "        ax.text(x = j, y = i, s = conf_mat[i, j], va = 'center', ha = 'center')\n",
    "\n",
    "plt.show()"
   ]
  },
  {
   "cell_type": "code",
   "execution_count": 126,
   "metadata": {},
   "outputs": [
    {
     "data": {
      "image/png": "[encoded data removed]",
      "text/plain": [
       "<Figure size 1500x600 with 3 Axes>"
      ]
     },
     "metadata": {},
     "output_type": "display_data"
    }
   ],
   "source": [
    "# 사이즈 별 실츠게 데이터 boxplot\n",
    "sns.set_palette(\"Set3\")\n",
    "fig, ax = plt.subplots(1, 3, figsize=(15, 6))\n",
    "sns.boxplot(df_woman, x='pred_size', y='총장', ax=ax[0])\n",
    "sns.boxplot(df_woman, x='pred_size', y='어깨너비', ax=ax[1])\n",
    "sns.boxplot(df_woman, x='pred_size', y='가슴단면', ax=ax[2])\n",
    "\n",
    "for i in range(3):\n",
    "    ax[i].set_xlabel('사이즈')\n",
    "    ax[i].set_ylabel('')\n",
    "    ax[i].tick_params(axis='x')\n",
    "\n",
    "ax[0].set_title('총장')\n",
    "ax[1].set_title('어깨너비')\n",
    "ax[2].set_title('가슴단면')\n",
    "\n",
    "plt.suptitle('(df_woman)사이즈 별 실측데이터 boxplot', fontsize=15)\n",
    "fig.subplots_adjust(hspace=0.4, wspace=0.2)\n",
    "\n",
    "plt.show()"
   ]
  },
  {
   "cell_type": "code",
   "execution_count": 130,
   "metadata": {},
   "outputs": [
    {
     "data": {
      "text/html": [
       "<div>\n",
       "<style scoped>\n",
       "    .dataframe tbody tr th:only-of-type {\n",
       "        vertical-align: middle;\n",
       "    }\n",
       "\n",
       "    .dataframe tbody tr th {\n",
       "        vertical-align: top;\n",
       "    }\n",
       "\n",
       "    .dataframe thead th {\n",
       "        text-align: right;\n",
       "    }\n",
       "</style>\n",
       "<table border=\"1\" class=\"dataframe\">\n",
       "  <thead>\n",
       "    <tr style=\"text-align: right;\">\n",
       "      <th></th>\n",
       "      <th>Unnamed: 0</th>\n",
       "      <th>제품명</th>\n",
       "      <th>브랜드</th>\n",
       "      <th>성별</th>\n",
       "      <th>사이즈</th>\n",
       "      <th>총장</th>\n",
       "      <th>어깨너비</th>\n",
       "      <th>가슴단면</th>\n",
       "      <th>링크</th>\n",
       "      <th>사이즈2</th>\n",
       "      <th>FREESIZE</th>\n",
       "      <th>pred_size</th>\n",
       "    </tr>\n",
       "  </thead>\n",
       "  <tbody>\n",
       "    <tr>\n",
       "      <th>0</th>\n",
       "      <td>6</td>\n",
       "      <td>릴렉스 핏 크루 넥 반팔 티셔츠 2팩</td>\n",
       "      <td>MUSINSA STANDARD</td>\n",
       "      <td>남</td>\n",
       "      <td>S</td>\n",
       "      <td>68.5</td>\n",
       "      <td>49.5</td>\n",
       "      <td>53.0</td>\n",
       "      <td>https://www.musinsa.com/app/goods/2034137</td>\n",
       "      <td>S</td>\n",
       "      <td>0</td>\n",
       "      <td>S</td>\n",
       "    </tr>\n",
       "    <tr>\n",
       "      <th>1</th>\n",
       "      <td>7</td>\n",
       "      <td>릴렉스 핏 크루 넥 반팔 티셔츠 2팩</td>\n",
       "      <td>MUSINSA STANDARD</td>\n",
       "      <td>남</td>\n",
       "      <td>M</td>\n",
       "      <td>70.5</td>\n",
       "      <td>51.5</td>\n",
       "      <td>55.5</td>\n",
       "      <td>https://www.musinsa.com/app/goods/2034137</td>\n",
       "      <td>M</td>\n",
       "      <td>0</td>\n",
       "      <td>M</td>\n",
       "    </tr>\n",
       "    <tr>\n",
       "      <th>2</th>\n",
       "      <td>8</td>\n",
       "      <td>릴렉스 핏 크루 넥 반팔 티셔츠 2팩</td>\n",
       "      <td>MUSINSA STANDARD</td>\n",
       "      <td>남</td>\n",
       "      <td>L</td>\n",
       "      <td>72.0</td>\n",
       "      <td>53.0</td>\n",
       "      <td>58.0</td>\n",
       "      <td>https://www.musinsa.com/app/goods/2034137</td>\n",
       "      <td>L</td>\n",
       "      <td>0</td>\n",
       "      <td>L</td>\n",
       "    </tr>\n",
       "    <tr>\n",
       "      <th>3</th>\n",
       "      <td>9</td>\n",
       "      <td>릴렉스 핏 크루 넥 반팔 티셔츠 2팩</td>\n",
       "      <td>MUSINSA STANDARD</td>\n",
       "      <td>남</td>\n",
       "      <td>XL</td>\n",
       "      <td>73.5</td>\n",
       "      <td>54.5</td>\n",
       "      <td>60.5</td>\n",
       "      <td>https://www.musinsa.com/app/goods/2034137</td>\n",
       "      <td>XL</td>\n",
       "      <td>0</td>\n",
       "      <td>XL</td>\n",
       "    </tr>\n",
       "    <tr>\n",
       "      <th>4</th>\n",
       "      <td>10</td>\n",
       "      <td>릴렉스 핏 크루 넥 반팔 티셔츠 2팩</td>\n",
       "      <td>MUSINSA STANDARD</td>\n",
       "      <td>남</td>\n",
       "      <td>2XL</td>\n",
       "      <td>74.5</td>\n",
       "      <td>56.0</td>\n",
       "      <td>63.0</td>\n",
       "      <td>https://www.musinsa.com/app/goods/2034137</td>\n",
       "      <td>XXL</td>\n",
       "      <td>0</td>\n",
       "      <td>2XL</td>\n",
       "    </tr>\n",
       "  </tbody>\n",
       "</table>\n",
       "</div>"
      ],
      "text/plain": [
       "   Unnamed: 0                   제품명               브랜드 성별  사이즈    총장  어깨너비  \\\n",
       "0           6  릴렉스 핏 크루 넥 반팔 티셔츠 2팩  MUSINSA STANDARD  남    S  68.5  49.5   \n",
       "1           7  릴렉스 핏 크루 넥 반팔 티셔츠 2팩  MUSINSA STANDARD  남    M  70.5  51.5   \n",
       "2           8  릴렉스 핏 크루 넥 반팔 티셔츠 2팩  MUSINSA STANDARD  남    L  72.0  53.0   \n",
       "3           9  릴렉스 핏 크루 넥 반팔 티셔츠 2팩  MUSINSA STANDARD  남   XL  73.5  54.5   \n",
       "4          10  릴렉스 핏 크루 넥 반팔 티셔츠 2팩  MUSINSA STANDARD  남  2XL  74.5  56.0   \n",
       "\n",
       "   가슴단면                                         링크 사이즈2  FREESIZE pred_size  \n",
       "0  53.0  https://www.musinsa.com/app/goods/2034137    S         0         S  \n",
       "1  55.5  https://www.musinsa.com/app/goods/2034137    M         0         M  \n",
       "2  58.0  https://www.musinsa.com/app/goods/2034137    L         0         L  \n",
       "3  60.5  https://www.musinsa.com/app/goods/2034137   XL         0        XL  \n",
       "4  63.0  https://www.musinsa.com/app/goods/2034137  XXL         0       2XL  "
      ]
     },
     "execution_count": 130,
     "metadata": {},
     "output_type": "execute_result"
    }
   ],
   "source": [
    "df_final = pd.concat([df_man, df_woman])\n",
    "df_final.head()"
   ]
  },
  {
   "cell_type": "code",
   "execution_count": 131,
   "metadata": {},
   "outputs": [],
   "source": [
    "df_final.to_csv(\"../data/df_final.csv\", encoding='utf-8')"
   ]
  }
 ],
 "metadata": {
  "kernelspec": {
   "display_name": "ds_study",
   "language": "python",
   "name": "python3"
  },
  "language_info": {
   "codemirror_mode": {
    "name": "ipython",
    "version": 3
   },
   "file_extension": ".py",
   "mimetype": "text/x-python",
   "name": "python",
   "nbconvert_exporter": "python",
   "pygments_lexer": "ipython3",
   "version": "3.8.16"
  },
  "orig_nbformat": 4
 },
 "nbformat": 4,
 "nbformat_minor": 2
}
